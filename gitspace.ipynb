{
 "cells": [
  {
   "cell_type": "markdown",
   "metadata": {},
   "source": [
    "### IMPORTS"
   ]
  },
  {
   "cell_type": "code",
   "execution_count": 1,
   "metadata": {},
   "outputs": [],
   "source": [
    "import subprocess\n",
    "import os\n",
    "import json"
   ]
  },
  {
   "cell_type": "markdown",
   "metadata": {},
   "source": [
    "### CONSTANTS"
   ]
  },
  {
   "cell_type": "code",
   "execution_count": 8,
   "metadata": {},
   "outputs": [],
   "source": [
    "BASE_DIR = \"E:\\Workspace\\Work\""
   ]
  },
  {
   "cell_type": "markdown",
   "metadata": {},
   "source": [
    "### CREATE FOLDER STRUCTURE"
   ]
  },
  {
   "cell_type": "code",
   "execution_count": 7,
   "metadata": {},
   "outputs": [
    {
     "name": "stdout",
     "output_type": "stream",
     "text": [
      "Processing group BracU\n",
      "Processing group BracU Projects\n",
      "Processing group BreakTimeCode\n",
      "Processing group Client Projects\n",
      "Processing group Community\n",
      "Processing group DApps\n",
      "Processing group Data Structure and Algorithms\n",
      "Processing group Design\n",
      "Processing group Frontend\n",
      "Processing group FullStack\n",
      "Processing group Group Projects\n",
      "Processing group LAB\n",
      "Processing group Learning\n",
      "Processing group Nextjs 15\n",
      "Processing group Playground\n",
      "Processing group Portfolio\n",
      "Processing group Portfolio Projects\n",
      "Processing group PyGame\n",
      "Processing group React 18\n",
      "Processing group Reaserch and Development\n"
     ]
    }
   ],
   "source": [
    "with open(\"./glab_groups.json\") as f:\n",
    "    groups = json.load(f)\n",
    "\n",
    "for group in groups:\n",
    "    print(f\"Processing group {group['name']}\")\n",
    "    # create group folder with full path\n",
    "    group_folder = os.path.join(BASE_DIR, group[\"full_path\"])\n",
    "    os.makedirs(group_folder, exist_ok=True)"
   ]
  },
  {
   "cell_type": "markdown",
   "metadata": {},
   "source": [
    "### CLONE GLAB PROJECTS INTO FOLDER STRUCTURE"
   ]
  },
  {
   "cell_type": "code",
   "execution_count": null,
   "metadata": {},
   "outputs": [],
   "source": [
    "with open(\"./glab_projects.json\") as f:\n",
    "    projects = json.load(f)\n",
    "\n",
    "for project in projects:\n",
    "    print(f\"Processing project {project['name']}\")\n",
    "    # create project folder with full path\n",
    "    project_folder = os.path.join(BASE_DIR, project[\"path_with_namespace\"])\n",
    "    # run glab clone command\n",
    "    subprocess.run(\n",
    "        f\"glab repo clone {project['path_with_namespace']} {project_folder}\",\n",
    "        shell=True,\n",
    "        check=True,\n",
    "    )\n",
    "    print(f\"Cloned project {project['name']} to {project_folder}\")"
   ]
  }
 ],
 "metadata": {
  "kernelspec": {
   "display_name": "Python 3",
   "language": "python",
   "name": "python3"
  },
  "language_info": {
   "codemirror_mode": {
    "name": "ipython",
    "version": 3
   },
   "file_extension": ".py",
   "mimetype": "text/x-python",
   "name": "python",
   "nbconvert_exporter": "python",
   "pygments_lexer": "ipython3",
   "version": "3.11.7"
  }
 },
 "nbformat": 4,
 "nbformat_minor": 2
}
