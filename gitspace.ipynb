{
 "cells": [
  {
   "cell_type": "markdown",
   "metadata": {},
   "source": [
    "### IMPORTS"
   ]
  },
  {
   "cell_type": "code",
   "execution_count": 4,
   "metadata": {},
   "outputs": [],
   "source": [
    "import subprocess\n",
    "import os\n",
    "import json\n",
    "import re"
   ]
  },
  {
   "cell_type": "markdown",
   "metadata": {},
   "source": [
    "### CONSTANTS"
   ]
  },
  {
   "cell_type": "code",
   "execution_count": 5,
   "metadata": {},
   "outputs": [],
   "source": [
    "BASE_DIR = \"E:\\Workspace\\Work\""
   ]
  },
  {
   "cell_type": "markdown",
   "metadata": {},
   "source": [
    "### HELPER FUNCTIONS"
   ]
  },
  {
   "cell_type": "code",
   "execution_count": 6,
   "metadata": {},
   "outputs": [],
   "source": [
    "# remove all ANSI escape sequences from a string\n",
    "def removeEscapeSequences(s):\n",
    "    return re.sub(r'\\x1b[^m]*m', '', s)"
   ]
  },
  {
   "cell_type": "markdown",
   "metadata": {},
   "source": [
    "### UPDATE JSON FILES"
   ]
  },
  {
   "cell_type": "code",
   "execution_count": 7,
   "metadata": {},
   "outputs": [],
   "source": [
    "# Update Projects\n",
    "with open(\"data/projs.json\", \"r\") as f:\n",
    "    projects = json.load(f)\n",
    "\n",
    "# Update Repositories\n",
    "with open(\"data/repos.json\", \"r\") as f:\n",
    "    repositories = json.load(f)"
   ]
  },
  {
   "cell_type": "markdown",
   "metadata": {},
   "source": [
    "### CLONE GLAB PROJECTS INTO FOLDER STRUCTURE"
   ]
  },
  {
   "cell_type": "code",
   "execution_count": 11,
   "metadata": {},
   "outputs": [
    {
     "name": "stdout",
     "output_type": "stream",
     "text": [
      "Project RealEstateScrapeBot is already cloned\n",
      "Project OneTrueGit is already cloned\n",
      "Project MAT120 is already cloned\n",
      "Project CSE421 is already cloned\n",
      "Project CSE250 is already cloned\n",
      "Project CSE221 is already cloned\n",
      "Project CSE220 is already cloned\n",
      "Project CSE111 is already cloned\n",
      "Project CSE110 is already cloned\n",
      "Project The Library is already cloned\n",
      "Project jupyter-ipyreact is already cloned\n",
      "Project Data Structure is already cloned\n",
      "Project LAB-temp is already cloned\n",
      "Project BracU-App is already cloned\n",
      "Project BookStore is already cloned\n",
      "Project CarRepairDashboardApp is already cloned\n"
     ]
    }
   ],
   "source": [
    "for project in projects:\n",
    "    # create project folder with full path\n",
    "    project_folder = os.path.join(BASE_DIR, project[\"path_with_namespace\"])\n",
    "\n",
    "    # check if the project is already cloned\n",
    "    if os.path.exists(os.path.join(BASE_DIR, project[\"path_with_namespace\"])):\n",
    "        print(f\"Project {project['name']} is already cloned\")\n",
    "        continue\n",
    "    # run glab clone command\n",
    "    subprocess.run(\n",
    "        f\"glab repo clone {project['path_with_namespace']} {project_folder}\",\n",
    "        shell=True,\n",
    "        check=True,\n",
    "    )\n",
    "    print(f\"Cloned project {project['name']} to {project_folder}\")"
   ]
  },
  {
   "cell_type": "markdown",
   "metadata": {},
   "source": [
    "### GOTO EACH PROJECT AND CREATE A GITHUB REPO"
   ]
  },
  {
   "cell_type": "code",
   "execution_count": 33,
   "metadata": {},
   "outputs": [
    {
     "name": "stdout",
     "output_type": "stream",
     "text": [
      "set()\n"
     ]
    }
   ],
   "source": [
    "allPathWithNamespace = map(lambda x: x['path_with_namespace'], projects)\n",
    "\n",
    "\n",
    "allRepoNames = map(\n",
    "    lambda x: x['full_name'].replace(\"SafwanAmin-BracU/\", \"\"),\n",
    "    filter(\n",
    "        lambda x: not x['archived'],\n",
    "        repositories\n",
    "    )\n",
    ")\n",
    "allRepoNames = set(allRepoNames)\n",
    "print(allRepoNames)"
   ]
  },
  {
   "cell_type": "code",
   "execution_count": 34,
   "metadata": {},
   "outputs": [
    {
     "name": "stdout",
     "output_type": "stream",
     "text": [
      "Syncing project RealEstateScrapeBot with github\n",
      "Creating github repo for project RealEstateScrapeBot\n",
      "Github repo for project RealEstateScrapeBot is created\n",
      "Adding github repo as remote to project RealEstateScrapeBot\n",
      "Pushing project RealEstateScrapeBot to github\n"
     ]
    },
    {
     "ename": "CalledProcessError",
     "evalue": "Command 'git push origin master' returned non-zero exit status 1.",
     "output_type": "error",
     "traceback": [
      "\u001b[1;31m---------------------------------------------------------------------------\u001b[0m",
      "\u001b[1;31mCalledProcessError\u001b[0m                        Traceback (most recent call last)",
      "Cell \u001b[1;32mIn[34], line 51\u001b[0m\n\u001b[0;32m     47\u001b[0m     \u001b[38;5;28mprint\u001b[39m(\u001b[38;5;124mf\u001b[39m\u001b[38;5;124m\"\u001b[39m\u001b[38;5;124mProject \u001b[39m\u001b[38;5;132;01m{\u001b[39;00mproj[\u001b[38;5;124m'\u001b[39m\u001b[38;5;124mname\u001b[39m\u001b[38;5;124m'\u001b[39m]\u001b[38;5;132;01m}\u001b[39;00m\u001b[38;5;124m is synced with github\u001b[39m\u001b[38;5;130;01m\\n\u001b[39;00m\u001b[38;5;130;01m\\n\u001b[39;00m\u001b[38;5;124m\"\u001b[39m)\n\u001b[0;32m     50\u001b[0m \u001b[38;5;28;01mfor\u001b[39;00m project \u001b[38;5;129;01min\u001b[39;00m projects:\n\u001b[1;32m---> 51\u001b[0m     \u001b[43msyncWithGitHub\u001b[49m\u001b[43m(\u001b[49m\u001b[43mproject\u001b[49m\u001b[43m)\u001b[49m\n",
      "Cell \u001b[1;32mIn[34], line 42\u001b[0m, in \u001b[0;36msyncWithGitHub\u001b[1;34m(proj)\u001b[0m\n\u001b[0;32m     40\u001b[0m \u001b[38;5;66;03m# push the project to the github repo (This will update the github repo with the local project)\u001b[39;00m\n\u001b[0;32m     41\u001b[0m \u001b[38;5;28mprint\u001b[39m(\u001b[38;5;124mf\u001b[39m\u001b[38;5;124m\"\u001b[39m\u001b[38;5;124mPushing project \u001b[39m\u001b[38;5;132;01m{\u001b[39;00mproj[\u001b[38;5;124m'\u001b[39m\u001b[38;5;124mname\u001b[39m\u001b[38;5;124m'\u001b[39m]\u001b[38;5;132;01m}\u001b[39;00m\u001b[38;5;124m to github\u001b[39m\u001b[38;5;124m\"\u001b[39m)\n\u001b[1;32m---> 42\u001b[0m \u001b[43msubprocess\u001b[49m\u001b[38;5;241;43m.\u001b[39;49m\u001b[43mrun\u001b[49m\u001b[43m(\u001b[49m\n\u001b[0;32m     43\u001b[0m \u001b[43m    \u001b[49m\u001b[38;5;124;43m\"\u001b[39;49m\u001b[38;5;124;43mgit push origin master\u001b[39;49m\u001b[38;5;124;43m\"\u001b[39;49m\u001b[43m,\u001b[49m\n\u001b[0;32m     44\u001b[0m \u001b[43m    \u001b[49m\u001b[43mshell\u001b[49m\u001b[38;5;241;43m=\u001b[39;49m\u001b[38;5;28;43;01mTrue\u001b[39;49;00m\u001b[43m,\u001b[49m\n\u001b[0;32m     45\u001b[0m \u001b[43m    \u001b[49m\u001b[43mcheck\u001b[49m\u001b[38;5;241;43m=\u001b[39;49m\u001b[38;5;28;43;01mTrue\u001b[39;49;00m\u001b[43m,\u001b[49m\n\u001b[0;32m     46\u001b[0m \u001b[43m\u001b[49m\u001b[43m)\u001b[49m\n\u001b[0;32m     47\u001b[0m \u001b[38;5;28mprint\u001b[39m(\u001b[38;5;124mf\u001b[39m\u001b[38;5;124m\"\u001b[39m\u001b[38;5;124mProject \u001b[39m\u001b[38;5;132;01m{\u001b[39;00mproj[\u001b[38;5;124m'\u001b[39m\u001b[38;5;124mname\u001b[39m\u001b[38;5;124m'\u001b[39m]\u001b[38;5;132;01m}\u001b[39;00m\u001b[38;5;124m is synced with github\u001b[39m\u001b[38;5;130;01m\\n\u001b[39;00m\u001b[38;5;130;01m\\n\u001b[39;00m\u001b[38;5;124m\"\u001b[39m)\n",
      "File \u001b[1;32mc:\\Users\\Admin\\AppData\\Local\\Programs\\Python\\Python311\\Lib\\subprocess.py:571\u001b[0m, in \u001b[0;36mrun\u001b[1;34m(input, capture_output, timeout, check, *popenargs, **kwargs)\u001b[0m\n\u001b[0;32m    569\u001b[0m     retcode \u001b[38;5;241m=\u001b[39m process\u001b[38;5;241m.\u001b[39mpoll()\n\u001b[0;32m    570\u001b[0m     \u001b[38;5;28;01mif\u001b[39;00m check \u001b[38;5;129;01mand\u001b[39;00m retcode:\n\u001b[1;32m--> 571\u001b[0m         \u001b[38;5;28;01mraise\u001b[39;00m CalledProcessError(retcode, process\u001b[38;5;241m.\u001b[39margs,\n\u001b[0;32m    572\u001b[0m                                  output\u001b[38;5;241m=\u001b[39mstdout, stderr\u001b[38;5;241m=\u001b[39mstderr)\n\u001b[0;32m    573\u001b[0m \u001b[38;5;28;01mreturn\u001b[39;00m CompletedProcess(process\u001b[38;5;241m.\u001b[39margs, retcode, stdout, stderr)\n",
      "\u001b[1;31mCalledProcessError\u001b[0m: Command 'git push origin master' returned non-zero exit status 1."
     ]
    }
   ],
   "source": [
    "def gHubNamingFormat(q: str): return q.replace(\"/\", \"__\")\n",
    "def gLabNamingFormat(q: str): return q.replace(\"__\", \"/\")\n",
    "\n",
    "\n",
    "def syncWithGitHub(proj: dict):\n",
    "    print(f\"Syncing project {proj['name']} with github\")\n",
    "\n",
    "    # get local path of the project\n",
    "    nameSpace = proj['path_with_namespace']\n",
    "    # get full path of the project\n",
    "    repoPath = os.path.join(BASE_DIR, nameSpace)\n",
    "    # generate the github repo name\n",
    "    githubRepoName = gHubNamingFormat(nameSpace)\n",
    "\n",
    "    # CREATE THE REPO IN GITHUB: (IF NOT EXISTS)\n",
    "\n",
    "    os.chdir(repoPath)\n",
    "    # check if the project is already exists in github or not\n",
    "    if githubRepoName in allRepoNames:\n",
    "        print(f\"Project {proj['name']} is already in github\")\n",
    "    else:\n",
    "        # if not, create the repo in github\n",
    "        print(f\"Creating github repo for project {proj['name']}\")\n",
    "        subprocess.run(\n",
    "            f\"gh repo create {githubRepoName} --{project['visibility']}\",\n",
    "            shell=True,\n",
    "            check=True,\n",
    "        )\n",
    "\n",
    "    print(f\"Github repo for project {proj['name']} is created\")\n",
    "    # add the github repo as remote to the project (This will add the github repo as a remote to the local project)\n",
    "    print(f\"Adding github repo as remote to project {proj['name']}\")\n",
    "    repoUrl = f\"https://github.com/SafwanAmin-BracU/{githubRepoName}.git\"\n",
    "    subprocess.run(\n",
    "        f\"git remote set-url --add --push origin {repoUrl}\",\n",
    "        shell=True,\n",
    "        check=True,\n",
    "    )\n",
    "\n",
    "    # push the project to the github repo (This will update the github repo with the local project)\n",
    "    print(f\"Pushing project {proj['name']} to github\")\n",
    "    subprocess.run(\n",
    "        \"git push --all origin\",\n",
    "        shell=True,\n",
    "        check=True,\n",
    "    )\n",
    "    print(f\"Project {proj['name']} is synced with github\\n\\n\")\n",
    "\n",
    "\n",
    "for project in projects:\n",
    "    syncWithGitHub(project)"
   ]
  }
 ],
 "metadata": {
  "kernelspec": {
   "display_name": "Python 3",
   "language": "python",
   "name": "python3"
  },
  "language_info": {
   "codemirror_mode": {
    "name": "ipython",
    "version": 3
   },
   "file_extension": ".py",
   "mimetype": "text/x-python",
   "name": "python",
   "nbconvert_exporter": "python",
   "pygments_lexer": "ipython3",
   "version": "3.11.7"
  }
 },
 "nbformat": 4,
 "nbformat_minor": 2
}
