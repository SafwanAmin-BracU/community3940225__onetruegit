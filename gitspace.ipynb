{
 "cells": [
  {
   "cell_type": "markdown",
   "metadata": {},
   "source": [
    "### IMPORTS"
   ]
  },
  {
   "cell_type": "code",
   "execution_count": 1,
   "metadata": {},
   "outputs": [],
   "source": [
    "import subprocess\n",
    "import os\n",
    "import json"
   ]
  },
  {
   "cell_type": "markdown",
   "metadata": {},
   "source": [
    "### CONSTANTS"
   ]
  },
  {
   "cell_type": "code",
   "execution_count": 2,
   "metadata": {},
   "outputs": [],
   "source": [
    "BASE_DIR = \"E:\\Workspace\\Work\""
   ]
  },
  {
   "cell_type": "markdown",
   "metadata": {},
   "source": [
    "### CREATE FOLDER STRUCTURE"
   ]
  },
  {
   "cell_type": "code",
   "execution_count": 3,
   "metadata": {},
   "outputs": [],
   "source": [
    "with open(\"./glab_groups.json\") as f:\n",
    "    groups = json.load(f)\n",
    "\n",
    "for group in groups:\n",
    "    # create group folder with full path\n",
    "    group_folder = os.path.join(BASE_DIR, group[\"full_path\"])\n",
    "    os.makedirs(group_folder, exist_ok=True)"
   ]
  },
  {
   "cell_type": "markdown",
   "metadata": {},
   "source": [
    "### CLONE GLAB PROJECTS INTO FOLDER STRUCTURE"
   ]
  },
  {
   "cell_type": "code",
   "execution_count": 5,
   "metadata": {},
   "outputs": [
    {
     "name": "stdout",
     "output_type": "stream",
     "text": [
      "Project RealEstateScrapeBot is already cloned, pulling latest changes...\n",
      "Project OneTrueGit is already cloned, pulling latest changes...\n",
      "Project MAT120 is already cloned, pulling latest changes...\n",
      "Project CSE421 is already cloned, pulling latest changes...\n",
      "Project CSE250 is already cloned, pulling latest changes...\n",
      "Project CSE221 is already cloned, pulling latest changes...\n",
      "Project CSE220 is already cloned, pulling latest changes...\n",
      "Project CSE111 is already cloned, pulling latest changes...\n",
      "Project CSE110 is already cloned, pulling latest changes...\n",
      "Project The Library is already cloned, pulling latest changes...\n",
      "Project jupyter-ipyreact is already cloned, pulling latest changes...\n",
      "Project Data Structure is already cloned, pulling latest changes...\n",
      "Project LAB-temp is already cloned, pulling latest changes...\n",
      "Project BracU-App is already cloned, pulling latest changes...\n",
      "Project BookStore is already cloned, pulling latest changes...\n",
      "Project CarRepairDashboardApp is already cloned, pulling latest changes...\n"
     ]
    }
   ],
   "source": [
    "with open(\"./glab_projects.json\") as f:\n",
    "    projects = json.load(f)\n",
    "\n",
    "\n",
    "for project in projects:\n",
    "    # create project folder with full path\n",
    "    project_folder = os.path.join(BASE_DIR, project[\"path_with_namespace\"])\n",
    "\n",
    "    # check if the project is already cloned\n",
    "    if os.path.exists(os.path.join(BASE_DIR, project[\"path_with_namespace\"])):\n",
    "        print(f\"Project {project['name']} is already cloned, pulling latest changes...\")\n",
    "        # # run glab pull command\n",
    "        # subprocess.run(\n",
    "        #     f\"cd {project_folder} && glab pull\",\n",
    "        #     shell=True,\n",
    "        #     check=True,\n",
    "        # )\n",
    "    else:\n",
    "        # run glab clone command\n",
    "        subprocess.run(\n",
    "            f\"glab repo clone {project['path_with_namespace']} {project_folder}\",\n",
    "            shell=True,\n",
    "            check=True,\n",
    "        )\n",
    "        print(f\"Cloned project {project['name']} to {project_folder}\")"
   ]
  },
  {
   "cell_type": "markdown",
   "metadata": {},
   "source": [
    "### GOTO EACH PROJECT AND CREATE A GITHUB REPO\n",
    "\n",
    "#### ADD THE GITHUB REPO AS REMOTE\n",
    "#### PUSH THE PROJECT TO GITHUB"
   ]
  },
  {
   "cell_type": "code",
   "execution_count": 20,
   "metadata": {},
   "outputs": [
    {
     "name": "stdout",
     "output_type": "stream",
     "text": [
      "breaktimecode/portfolio/webscraping/RealEstateScrapeBot\n",
      "community3940225/onetruegit\n",
      "bracu_23101281/lab/MAT120\n",
      "bracu_23101281/lab/CSE421\n",
      "bracu_23101281/lab/CSE250\n",
      "bracu_23101281/lab/CSE221\n",
      "bracu_23101281/lab/CSE220\n",
      "bracu_23101281/lab/CSE111\n",
      "bracu_23101281/lab/cse110\n",
      "breaktimecode/reaserch-and-development/the-library\n",
      "playground_23101281/jupyter-ipyreact\n",
      "learning_23101281/data-structure-and-algorithms/data-structure\n",
      "bracu_23101281/LAB-temp\n",
      "breaktimecode/bracu-projects/bracu-app\n",
      "bracu_23101281/group-projects/CSE111_SUM23_GroupProject\n",
      "breaktimecode/portfolio/design/carrepairdashboardapp\n"
     ]
    }
   ],
   "source": [
    "allPathWithNamespace = [project[\"path_with_namespace\"] for project in projects]\n",
    "\n",
    "\n",
    "def convertToCamelCase(q: str):\n",
    "    q.replace(\"/\", \"__\")\n",
    "\n",
    "\n",
    "print(*allPathWithNamespace, sep=\"\\n\")"
   ]
  }
 ],
 "metadata": {
  "kernelspec": {
   "display_name": "Python 3",
   "language": "python",
   "name": "python3"
  },
  "language_info": {
   "codemirror_mode": {
    "name": "ipython",
    "version": 3
   },
   "file_extension": ".py",
   "mimetype": "text/x-python",
   "name": "python",
   "nbconvert_exporter": "python",
   "pygments_lexer": "ipython3",
   "version": "3.11.7"
  }
 },
 "nbformat": 4,
 "nbformat_minor": 2
}
