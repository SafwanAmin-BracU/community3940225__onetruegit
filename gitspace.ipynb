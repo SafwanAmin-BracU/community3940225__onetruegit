{
 "cells": [
  {
   "cell_type": "markdown",
   "metadata": {},
   "source": [
    "### IMPORTS"
   ]
  },
  {
   "cell_type": "code",
   "execution_count": 1,
   "metadata": {},
   "outputs": [],
   "source": [
    "import subprocess\n",
    "import os\n",
    "import json\n",
    "import re"
   ]
  },
  {
   "cell_type": "markdown",
   "metadata": {},
   "source": [
    "### CONSTANTS"
   ]
  },
  {
   "cell_type": "code",
   "execution_count": 2,
   "metadata": {},
   "outputs": [],
   "source": [
    "BASE_DIR = \"E:\\Workspace\\Work\""
   ]
  },
  {
   "cell_type": "markdown",
   "metadata": {},
   "source": [
    "### HELPER FUNCTIONS"
   ]
  },
  {
   "cell_type": "code",
   "execution_count": 3,
   "metadata": {},
   "outputs": [],
   "source": [
    "# remove all ANSI escape sequences from a string\n",
    "def removeEscapeSequences(s):\n",
    "    return re.sub(r'\\x1b[^m]*m', '', s)"
   ]
  },
  {
   "cell_type": "markdown",
   "metadata": {},
   "source": [
    "### UPDATE JSON FILES"
   ]
  },
  {
   "cell_type": "code",
   "execution_count": 4,
   "metadata": {},
   "outputs": [],
   "source": [
    "# Update Projects\n",
    "with open(\"data/projs.json\", \"r\") as f:\n",
    "    projects = json.load(f)\n",
    "\n",
    "# Update Repositories\n",
    "with open(\"data/repos.json\", \"r\") as f:\n",
    "    repositories = json.load(f)"
   ]
  },
  {
   "cell_type": "markdown",
   "metadata": {},
   "source": [
    "### CLONE GLAB PROJECTS INTO FOLDER STRUCTURE"
   ]
  },
  {
   "cell_type": "code",
   "execution_count": 5,
   "metadata": {},
   "outputs": [
    {
     "name": "stdout",
     "output_type": "stream",
     "text": [
      "Project RealEstateScrapeBot is already cloned\n",
      "Project OneTrueGit is already cloned\n",
      "Project MAT120 is already cloned\n",
      "Project CSE421 is already cloned\n",
      "Project CSE250 is already cloned\n",
      "Project CSE221 is already cloned\n",
      "Project CSE220 is already cloned\n",
      "Project CSE111 is already cloned\n",
      "Project CSE110 is already cloned\n",
      "Project The Library is already cloned\n",
      "Project jupyter-ipyreact is already cloned\n",
      "Project Data Structure is already cloned\n",
      "Project LAB-temp is already cloned\n",
      "Project BracU-App is already cloned\n",
      "Project BookStore is already cloned\n",
      "Project CarRepairDashboardApp is already cloned\n"
     ]
    }
   ],
   "source": [
    "for project in projects:\n",
    "    # create project folder with full path\n",
    "    project_folder = os.path.join(BASE_DIR, project[\"path_with_namespace\"])\n",
    "\n",
    "    # check if the project is already cloned\n",
    "    if os.path.exists(os.path.join(BASE_DIR, project[\"path_with_namespace\"])):\n",
    "        print(f\"Project {project['name']} is already cloned\")\n",
    "        continue\n",
    "    # run glab clone command\n",
    "    subprocess.run(\n",
    "        f\"glab repo clone {project['path_with_namespace']} {project_folder}\",\n",
    "        shell=True,\n",
    "        check=True,\n",
    "    )\n",
    "    print(f\"Cloned project {project['name']} to {project_folder}\")"
   ]
  },
  {
   "cell_type": "markdown",
   "metadata": {},
   "source": [
    "### GOTO EACH PROJECT AND CREATE A GITHUB REPO"
   ]
  },
  {
   "cell_type": "code",
   "execution_count": 6,
   "metadata": {},
   "outputs": [
    {
     "name": "stdout",
     "output_type": "stream",
     "text": [
      "{'breaktimecode__portfolio__webscraping__RealEstateScrapeBot'}\n"
     ]
    }
   ],
   "source": [
    "allPathWithNamespace = map(lambda x: x['path_with_namespace'], projects)\n",
    "\n",
    "\n",
    "allRepoNames = map(\n",
    "    lambda x: x['full_name'].replace(\"SafwanAmin-BracU/\", \"\"),\n",
    "    filter(\n",
    "        lambda x: not x['archived'],\n",
    "        repositories\n",
    "    )\n",
    ")\n",
    "allRepoNames = set(allRepoNames)\n",
    "print(allRepoNames)"
   ]
  },
  {
   "cell_type": "code",
   "execution_count": 7,
   "metadata": {},
   "outputs": [
    {
     "name": "stdout",
     "output_type": "stream",
     "text": [
      "Syncing project RealEstateScrapeBot with github\n",
      "Project RealEstateScrapeBot is already in github\n",
      "Github repo for project RealEstateScrapeBot is created\n",
      "Adding github repo as remote to project RealEstateScrapeBot\n",
      "Pushing project RealEstateScrapeBot to github\n",
      "Project RealEstateScrapeBot is synced with github\n",
      "\n",
      "\n",
      "Syncing project OneTrueGit with github\n",
      "Creating github repo for project OneTrueGit\n",
      "Github repo for project OneTrueGit is created\n",
      "Adding github repo as remote to project OneTrueGit\n",
      "Pushing project OneTrueGit to github\n",
      "Project OneTrueGit is synced with github\n",
      "\n",
      "\n",
      "Syncing project MAT120 with github\n",
      "Creating github repo for project MAT120\n",
      "Github repo for project MAT120 is created\n",
      "Adding github repo as remote to project MAT120\n",
      "Pushing project MAT120 to github\n",
      "Project MAT120 is synced with github\n",
      "\n",
      "\n",
      "Syncing project CSE421 with github\n",
      "Creating github repo for project CSE421\n",
      "Github repo for project CSE421 is created\n",
      "Adding github repo as remote to project CSE421\n",
      "Pushing project CSE421 to github\n",
      "Project CSE421 is synced with github\n",
      "\n",
      "\n",
      "Syncing project CSE250 with github\n",
      "Creating github repo for project CSE250\n",
      "Github repo for project CSE250 is created\n",
      "Adding github repo as remote to project CSE250\n",
      "Pushing project CSE250 to github\n",
      "Project CSE250 is synced with github\n",
      "\n",
      "\n",
      "Syncing project CSE221 with github\n",
      "Creating github repo for project CSE221\n",
      "Github repo for project CSE221 is created\n",
      "Adding github repo as remote to project CSE221\n",
      "Pushing project CSE221 to github\n",
      "Project CSE221 is synced with github\n",
      "\n",
      "\n",
      "Syncing project CSE220 with github\n",
      "Creating github repo for project CSE220\n",
      "Github repo for project CSE220 is created\n",
      "Adding github repo as remote to project CSE220\n",
      "Pushing project CSE220 to github\n",
      "Project CSE220 is synced with github\n",
      "\n",
      "\n",
      "Syncing project CSE111 with github\n",
      "Creating github repo for project CSE111\n",
      "Github repo for project CSE111 is created\n",
      "Adding github repo as remote to project CSE111\n",
      "Pushing project CSE111 to github\n",
      "Project CSE111 is synced with github\n",
      "\n",
      "\n",
      "Syncing project CSE110 with github\n",
      "Creating github repo for project CSE110\n",
      "Github repo for project CSE110 is created\n",
      "Adding github repo as remote to project CSE110\n",
      "Pushing project CSE110 to github\n",
      "Project CSE110 is synced with github\n",
      "\n",
      "\n",
      "Syncing project The Library with github\n",
      "Creating github repo for project The Library\n",
      "Github repo for project The Library is created\n",
      "Adding github repo as remote to project The Library\n",
      "Pushing project The Library to github\n",
      "Project The Library is synced with github\n",
      "\n",
      "\n",
      "Syncing project jupyter-ipyreact with github\n",
      "Creating github repo for project jupyter-ipyreact\n",
      "Github repo for project jupyter-ipyreact is created\n",
      "Adding github repo as remote to project jupyter-ipyreact\n",
      "Pushing project jupyter-ipyreact to github\n",
      "Project jupyter-ipyreact is synced with github\n",
      "\n",
      "\n",
      "Syncing project Data Structure with github\n",
      "Creating github repo for project Data Structure\n",
      "Github repo for project Data Structure is created\n",
      "Adding github repo as remote to project Data Structure\n",
      "Pushing project Data Structure to github\n",
      "Project Data Structure is synced with github\n",
      "\n",
      "\n",
      "Syncing project LAB-temp with github\n",
      "Creating github repo for project LAB-temp\n",
      "Github repo for project LAB-temp is created\n",
      "Adding github repo as remote to project LAB-temp\n",
      "Pushing project LAB-temp to github\n",
      "Project LAB-temp is synced with github\n",
      "\n",
      "\n",
      "Syncing project BracU-App with github\n",
      "Creating github repo for project BracU-App\n",
      "Github repo for project BracU-App is created\n",
      "Adding github repo as remote to project BracU-App\n",
      "Pushing project BracU-App to github\n",
      "Project BracU-App is synced with github\n",
      "\n",
      "\n",
      "Syncing project BookStore with github\n",
      "Creating github repo for project BookStore\n",
      "Github repo for project BookStore is created\n",
      "Adding github repo as remote to project BookStore\n",
      "Pushing project BookStore to github\n",
      "Project BookStore is synced with github\n",
      "\n",
      "\n",
      "Syncing project CarRepairDashboardApp with github\n",
      "Creating github repo for project CarRepairDashboardApp\n",
      "Github repo for project CarRepairDashboardApp is created\n",
      "Adding github repo as remote to project CarRepairDashboardApp\n",
      "Pushing project CarRepairDashboardApp to github\n",
      "Project CarRepairDashboardApp is synced with github\n",
      "\n",
      "\n"
     ]
    }
   ],
   "source": [
    "def gHubNamingFormat(q: str): return q.replace(\"/\", \"__\")\n",
    "def gLabNamingFormat(q: str): return q.replace(\"__\", \"/\")\n",
    "\n",
    "\n",
    "def syncWithGitHub(proj: dict):\n",
    "    print(f\"Syncing project {proj['name']} with github\")\n",
    "\n",
    "    # get local path of the project\n",
    "    nameSpace = proj['path_with_namespace']\n",
    "    # get full path of the project\n",
    "    repoPath = os.path.join(BASE_DIR, nameSpace)\n",
    "    # generate the github repo name\n",
    "    githubRepoName = gHubNamingFormat(nameSpace)\n",
    "\n",
    "    # CREATE THE REPO IN GITHUB: (IF NOT EXISTS)\n",
    "\n",
    "    os.chdir(repoPath)\n",
    "    # check if the project is already exists in github or not\n",
    "    if githubRepoName in allRepoNames:\n",
    "        print(f\"Project {proj['name']} is already in github\")\n",
    "    else:\n",
    "        # if not, create the repo in github\n",
    "        print(f\"Creating github repo for project {proj['name']}\")\n",
    "        subprocess.run(\n",
    "            f\"gh repo create {githubRepoName} --{project['visibility']}\",\n",
    "            shell=True,\n",
    "            check=True,\n",
    "        )\n",
    "\n",
    "    print(f\"Github repo for project {proj['name']} is created\")\n",
    "    # add the github repo as remote to the project (This will add the github repo as a remote to the local project)\n",
    "    print(f\"Adding github repo as remote to project {proj['name']}\")\n",
    "    repoUrl = f\"https://github.com/SafwanAmin-BracU/{githubRepoName}.git\"\n",
    "    subprocess.run(\n",
    "        f\"git remote set-url --add --push origin {repoUrl}\",\n",
    "        shell=True,\n",
    "        check=True,\n",
    "    )\n",
    "\n",
    "    # push the project to the github repo (This will update the github repo with the local project)\n",
    "    print(f\"Pushing project {proj['name']} to github\")\n",
    "    subprocess.run(\n",
    "        \"git push --all origin\",\n",
    "        shell=True,\n",
    "        check=True,\n",
    "    )\n",
    "    print(f\"Project {proj['name']} is synced with github\\n\\n\")\n",
    "\n",
    "\n",
    "for project in projects:\n",
    "    syncWithGitHub(project)"
   ]
  }
 ],
 "metadata": {
  "kernelspec": {
   "display_name": "Python 3",
   "language": "python",
   "name": "python3"
  },
  "language_info": {
   "codemirror_mode": {
    "name": "ipython",
    "version": 3
   },
   "file_extension": ".py",
   "mimetype": "text/x-python",
   "name": "python",
   "nbconvert_exporter": "python",
   "pygments_lexer": "ipython3",
   "version": "3.11.7"
  }
 },
 "nbformat": 4,
 "nbformat_minor": 2
}
