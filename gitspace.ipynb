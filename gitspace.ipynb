{
 "cells": [
  {
   "cell_type": "markdown",
   "metadata": {},
   "source": [
    "### IMPORTS"
   ]
  },
  {
   "cell_type": "code",
   "execution_count": 1,
   "metadata": {},
   "outputs": [],
   "source": [
    "import subprocess\n",
    "import os\n",
    "import json\n",
    "import re"
   ]
  },
  {
   "cell_type": "markdown",
   "metadata": {},
   "source": [
    "### CONSTANTS"
   ]
  },
  {
   "cell_type": "code",
   "execution_count": 2,
   "metadata": {},
   "outputs": [],
   "source": [
    "BASE_DIR = \"E:\\Workspace\\Work\""
   ]
  },
  {
   "cell_type": "markdown",
   "metadata": {},
   "source": [
    "### HELPER FUNCTIONS"
   ]
  },
  {
   "cell_type": "code",
   "execution_count": 3,
   "metadata": {},
   "outputs": [],
   "source": [
    "# remove all ANSI escape sequences from a string\n",
    "def removeEscapeSequences(s):\n",
    "    return re.sub(r'\\x1b[^m]*m', '', s)"
   ]
  },
  {
   "cell_type": "markdown",
   "metadata": {},
   "source": [
    "### UPDATE JSON FILES"
   ]
  },
  {
   "cell_type": "code",
   "execution_count": 18,
   "metadata": {},
   "outputs": [],
   "source": [
    "# Update Projects\n",
    "subprocess.run(\"glab api /projects?owned=yes > glab_projects.json\",\n",
    "               cwd=os.getcwd(), shell=True)\n",
    "with open(\"glab_projects.json\", \"r\") as f:\n",
    "    projects = json.load(f)\n",
    "\n",
    "# Update Groups\n",
    "subprocess.run(\"glab api /groups?owned=yes > glab_groups.json\",\n",
    "               cwd=os.getcwd(), shell=True)\n",
    "with open(\"glab_groups.json\", \"r\") as f:\n",
    "    groups = json.load(f)\n",
    "\n",
    "# Update Repos\n",
    "subprocess.run(\"gh api /user/repos > gh_repos.json\",\n",
    "               cwd=os.getcwd(), shell=True, stdout=subprocess.PIPE, stderr=subprocess.PIPE).stdout.decode(\"utf-8\")\n",
    "\n",
    "\n",
    "with open(\"gh_repos.json\", \"r\") as f:\n",
    "    repos = json.loads(removeEscapeSequences(f.read()))\n",
    "\n",
    "with open(\"gh_repos.json\", \"w\") as f:\n",
    "    json.dump(repos, f, indent=4)\n",
    "\n",
    "# Filter out archived repos\n",
    "repos = list(filter(lambda x: not x[\"archived\"], repos))"
   ]
  },
  {
   "cell_type": "markdown",
   "metadata": {},
   "source": [
    "### CREATE FOLDER STRUCTURE"
   ]
  },
  {
   "cell_type": "code",
   "execution_count": 5,
   "metadata": {},
   "outputs": [],
   "source": [
    "for group in groups:\n",
    "    # create group folder with full path\n",
    "    group_folder = os.path.join(BASE_DIR, group[\"full_path\"])\n",
    "    os.makedirs(group_folder, exist_ok=True)"
   ]
  },
  {
   "cell_type": "markdown",
   "metadata": {},
   "source": [
    "### CLONE GLAB PROJECTS INTO FOLDER STRUCTURE"
   ]
  },
  {
   "cell_type": "code",
   "execution_count": 6,
   "metadata": {},
   "outputs": [
    {
     "name": "stdout",
     "output_type": "stream",
     "text": [
      "Project RealEstateScrapeBot is already cloned, pulling latest changes...\n",
      "Project OneTrueGit is already cloned, pulling latest changes...\n",
      "Project MAT120 is already cloned, pulling latest changes...\n",
      "Project CSE421 is already cloned, pulling latest changes...\n",
      "Project CSE250 is already cloned, pulling latest changes...\n",
      "Project CSE221 is already cloned, pulling latest changes...\n",
      "Project CSE220 is already cloned, pulling latest changes...\n",
      "Project CSE111 is already cloned, pulling latest changes...\n",
      "Project CSE110 is already cloned, pulling latest changes...\n",
      "Project The Library is already cloned, pulling latest changes...\n",
      "Project jupyter-ipyreact is already cloned, pulling latest changes...\n",
      "Project Data Structure is already cloned, pulling latest changes...\n",
      "Project LAB-temp is already cloned, pulling latest changes...\n",
      "Project BracU-App is already cloned, pulling latest changes...\n",
      "Project BookStore is already cloned, pulling latest changes...\n",
      "Project CarRepairDashboardApp is already cloned, pulling latest changes...\n"
     ]
    }
   ],
   "source": [
    "for project in projects:\n",
    "    # create project folder with full path\n",
    "    project_folder = os.path.join(BASE_DIR, project[\"path_with_namespace\"])\n",
    "\n",
    "    # check if the project is already cloned\n",
    "    if os.path.exists(os.path.join(BASE_DIR, project[\"path_with_namespace\"])):\n",
    "        print(f\"Project {project['name']} is already cloned, pulling latest changes...\")\n",
    "        # TODO: implement pull command\n",
    "        # # run glab pull command\n",
    "        # subprocess.run(\n",
    "        #     f\"cd {project_folder} && glab pull\",\n",
    "        #     shell=True,\n",
    "        #     check=True,\n",
    "        # )\n",
    "    else:\n",
    "        # run glab clone command\n",
    "        subprocess.run(\n",
    "            f\"glab repo clone {project['path_with_namespace']} {project_folder}\",\n",
    "            shell=True,\n",
    "            check=True,\n",
    "        )\n",
    "        print(f\"Cloned project {project['name']} to {project_folder}\")"
   ]
  },
  {
   "cell_type": "markdown",
   "metadata": {},
   "source": [
    "### GOTO EACH PROJECT AND CREATE A GITHUB REPO\n",
    "\n",
    "#### ADD THE GITHUB REPO AS REMOTE\n",
    "#### PUSH THE PROJECT TO GITHUB"
   ]
  },
  {
   "cell_type": "code",
   "execution_count": 20,
   "metadata": {},
   "outputs": [
    {
     "name": "stdout",
     "output_type": "stream",
     "text": [
      "Synced project breaktimecode/portfolio/webscraping/RealEstateScrapeBot with GitHub\n",
      "Synced project community3940225/onetruegit with GitHub\n",
      "Synced project bracu_23101281/lab/MAT120 with GitHub\n",
      "Synced project bracu_23101281/lab/CSE421 with GitHub\n",
      "Synced project bracu_23101281/lab/CSE250 with GitHub\n",
      "Synced project bracu_23101281/lab/CSE221 with GitHub\n",
      "Synced project bracu_23101281/lab/CSE220 with GitHub\n",
      "Synced project bracu_23101281/lab/CSE111 with GitHub\n",
      "Synced project bracu_23101281/lab/CSE110 with GitHub\n",
      "Synced project breaktimecode/reaserch-and-development/the-library with GitHub\n",
      "Synced project playground_23101281/jupyter-ipyreact with GitHub\n",
      "Synced project learning_23101281/data-structure-and-algorithms/data-structure with GitHub\n",
      "Synced project bracu_23101281/LAB-temp with GitHub\n",
      "Synced project breaktimecode/bracu-projects/bracu-app with GitHub\n",
      "Synced project bracu_23101281/group-projects/CSE111_SUM23_GroupProject with GitHub\n",
      "Synced project breaktimecode/portfolio/design/carrepairdashboardapp with GitHub\n"
     ]
    }
   ],
   "source": [
    "allPathWithNamespace = map(lambda x: x['path_with_namespace'], projects)\n",
    "\n",
    "\n",
    "def gHubNamingFormat(q: str): return q.replace(\"/\", \"__\")\n",
    "\n",
    "\n",
    "def gLabNamingFormat(q: str): return q.replace(\"__\", \"/\")\n",
    "\n",
    "\n",
    "\n",
    "# TODO: THIS DOESNT ACCOUNT FOR THE VISIBILITY OF THE REPO. FUTURE PLAN: USE OOP OR DATABASE OR DATACLASS TO MANAGE THE ENTIRE APPLICATION\n",
    "def syncWithGitHub(localPath: str):\n",
    "    # get full path of the project\n",
    "    repoPath = os.path.join(BASE_DIR, localPath)\n",
    "    # generate the github repo name\n",
    "    githubRepoName = gHubNamingFormat(localPath)\n",
    "    # check if the project is already exists in github\n",
    "    # TODO: implement check if the project is already exists in github\n",
    "    # if not, create the repo\n",
    "    os.chdir(repoPath)\n",
    "    subprocess.run(\n",
    "        f\"gh repo create {githubRepoName} --public\",\n",
    "        shell=True,\n",
    "        check=True,\n",
    "    )\n",
    "    repoUrl = f\"https://github.com/SafwanAmin-BracU/{githubRepoName}.git\"\n",
    "    # add the github repo as remote to the project\n",
    "    subprocess.run(\n",
    "        f\"git remote set-url --add --push origin {repoUrl}\",\n",
    "        shell=True,\n",
    "        check=True,\n",
    "    )\n",
    "\n",
    "\n",
    "for pathWithNamespace in allPathWithNamespace:\n",
    "    syncWithGitHub(pathWithNamespace)\n",
    "    print(f\"Synced project {pathWithNamespace} with GitHub\")"
   ]
  }
 ],
 "metadata": {
  "kernelspec": {
   "display_name": "Python 3",
   "language": "python",
   "name": "python3"
  },
  "language_info": {
   "codemirror_mode": {
    "name": "ipython",
    "version": 3
   },
   "file_extension": ".py",
   "mimetype": "text/x-python",
   "name": "python",
   "nbconvert_exporter": "python",
   "pygments_lexer": "ipython3",
   "version": "3.11.7"
  }
 },
 "nbformat": 4,
 "nbformat_minor": 2
}
